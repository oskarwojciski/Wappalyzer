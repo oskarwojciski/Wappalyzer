import shutil
import requests

icons = get_ipython().getoutput(u'grep \'"icon":\' ../src/apps.json')
for i in icons:
    i = i.strip().replace('"icon": ', "").replace('"', "").replace(",",'')
    u = "https://wappalyzer.com/sites/default/files/icons/{}".format(i)
    r = requests.get(u, stream=True)
    print u,r
    if r.status_code == 200:
        r.raw.decode_content=True
        with open("./{}".format(i), 'wb') as f:
            shutil.copyfileobj(r.raw, f)
            
